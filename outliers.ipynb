{
 "cells": [
  {
   "cell_type": "raw",
   "id": "decbed3a",
   "metadata": {},
   "source": [
    "# Using IQR"
   ]
  },
  {
   "cell_type": "code",
   "execution_count": 1,
   "id": "ce24912b",
   "metadata": {},
   "outputs": [
    {
     "name": "stdout",
     "output_type": "stream",
     "text": [
      "lower_bound: 6.5\n",
      "upper_bound: 18.5\n"
     ]
    }
   ],
   "source": [
    "import numpy as np\n",
    "import pandas as pd\n",
    "\n",
    "dataset= [10,12,12,13,12,11,14,13,15,10,10,10,100,12,14,13,12,\n",
    "          10,10,11,12,15,12,13,12,11,14,13,15,10,15,12,10,14,13,15,10]\n",
    "sorted(dataset)\n",
    "q1, q3= np.percentile(dataset,[25,75])\n",
    "iqr = q3 - q1\n",
    "lower_bound = q1 -(1.5 * iqr)\n",
    "upper_bound = q3 +(1.5 * iqr)\n",
    "print('lower_bound:',lower_bound)\n",
    "print('upper_bound:',upper_bound)"
   ]
  },
  {
   "cell_type": "code",
   "execution_count": 2,
   "id": "51c65073",
   "metadata": {},
   "outputs": [
    {
     "name": "stdout",
     "output_type": "stream",
     "text": [
      "Manual Iteration:  100 \n",
      "index of max number is:  12\n"
     ]
    }
   ],
   "source": [
    "max_num = dataset[0]\n",
    "for n in dataset:\n",
    "    max_num = n if n >= max_num else max_num\n",
    "print(\"Manual Iteration: \", max_num,'\\nindex of max number is: ',dataset.index(max_num))"
   ]
  },
  {
   "cell_type": "raw",
   "id": "0e559a2d",
   "metadata": {},
   "source": [
    "#Using Z score"
   ]
  },
  {
   "cell_type": "code",
   "execution_count": 3,
   "id": "2930ec07",
   "metadata": {},
   "outputs": [
    {
     "name": "stdout",
     "output_type": "stream",
     "text": [
      "[100]\n"
     ]
    }
   ],
   "source": [
    "outliers=[]\n",
    "def detect_outlier(data_1):\n",
    "    \n",
    "    threshold=3\n",
    "    mean_1 = np.mean(data_1)\n",
    "    std_1 =np.std(data_1)\n",
    "    \n",
    "    \n",
    "    for y in data_1:\n",
    "        z_score= (y - mean_1)/std_1 \n",
    "        if np.abs(z_score) > threshold:\n",
    "            outliers.append(y)\n",
    "    return outliers\n",
    "\n",
    "dataset= [10,12,12,13,12,11,14,13,15,10,10,10,100,12,14,13,12,\n",
    "          10,10,11,12,15,12,13,12,11,14,13,15,10,15,12,10,14,13,15,10]\n",
    "outlier_datapoints = detect_outlier(dataset)\n",
    "print(outlier_datapoints)"
   ]
  },
  {
   "cell_type": "code",
   "execution_count": null,
   "id": "14418afc",
   "metadata": {},
   "outputs": [],
   "source": []
  }
 ],
 "metadata": {
  "kernelspec": {
   "display_name": "Python 3 (ipykernel)",
   "language": "python",
   "name": "python3"
  },
  "language_info": {
   "codemirror_mode": {
    "name": "ipython",
    "version": 3
   },
   "file_extension": ".py",
   "mimetype": "text/x-python",
   "name": "python",
   "nbconvert_exporter": "python",
   "pygments_lexer": "ipython3",
   "version": "3.9.16"
  }
 },
 "nbformat": 4,
 "nbformat_minor": 5
}
